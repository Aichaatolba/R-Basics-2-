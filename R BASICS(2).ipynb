{
 "cells": [
  {
   "cell_type": "code",
   "execution_count": null,
   "metadata": {},
   "outputs": [],
   "source": [
    "############# BUILT-IN FEATURES ####################\n",
    "\n",
    "#seq() creates sequences \n",
    "#sort() sort a vector \n",
    "# rev() reverse elements in object \n",
    "# str() show the structure of an object\n",
    "# append() merge objects together (works on vectors and lists)"
   ]
  },
  {
   "cell_type": "code",
   "execution_count": 1,
   "metadata": {},
   "outputs": [
    {
     "data": {
      "text/html": [
       "<style>\n",
       ".list-inline {list-style: none; margin:0; padding: 0}\n",
       ".list-inline>li {display: inline-block}\n",
       ".list-inline>li:not(:last-child)::after {content: \"\\00b7\"; padding: 0 .5ex}\n",
       "</style>\n",
       "<ol class=list-inline><li>2</li><li>6</li><li>10</li><li>14</li><li>18</li><li>22</li><li>26</li><li>30</li><li>34</li><li>38</li><li>42</li><li>46</li><li>50</li><li>54</li><li>58</li><li>62</li><li>66</li><li>70</li><li>74</li><li>78</li><li>82</li><li>86</li><li>90</li><li>94</li><li>98</li><li>102</li><li>106</li><li>110</li><li>114</li><li>118</li><li>122</li><li>126</li><li>130</li><li>134</li><li>138</li><li>142</li><li>146</li><li>150</li><li>154</li><li>158</li><li>162</li><li>166</li><li>170</li><li>174</li><li>178</li><li>182</li><li>186</li><li>190</li><li>194</li><li>198</li></ol>\n"
      ],
      "text/latex": [
       "\\begin{enumerate*}\n",
       "\\item 2\n",
       "\\item 6\n",
       "\\item 10\n",
       "\\item 14\n",
       "\\item 18\n",
       "\\item 22\n",
       "\\item 26\n",
       "\\item 30\n",
       "\\item 34\n",
       "\\item 38\n",
       "\\item 42\n",
       "\\item 46\n",
       "\\item 50\n",
       "\\item 54\n",
       "\\item 58\n",
       "\\item 62\n",
       "\\item 66\n",
       "\\item 70\n",
       "\\item 74\n",
       "\\item 78\n",
       "\\item 82\n",
       "\\item 86\n",
       "\\item 90\n",
       "\\item 94\n",
       "\\item 98\n",
       "\\item 102\n",
       "\\item 106\n",
       "\\item 110\n",
       "\\item 114\n",
       "\\item 118\n",
       "\\item 122\n",
       "\\item 126\n",
       "\\item 130\n",
       "\\item 134\n",
       "\\item 138\n",
       "\\item 142\n",
       "\\item 146\n",
       "\\item 150\n",
       "\\item 154\n",
       "\\item 158\n",
       "\\item 162\n",
       "\\item 166\n",
       "\\item 170\n",
       "\\item 174\n",
       "\\item 178\n",
       "\\item 182\n",
       "\\item 186\n",
       "\\item 190\n",
       "\\item 194\n",
       "\\item 198\n",
       "\\end{enumerate*}\n"
      ],
      "text/markdown": [
       "1. 2\n",
       "2. 6\n",
       "3. 10\n",
       "4. 14\n",
       "5. 18\n",
       "6. 22\n",
       "7. 26\n",
       "8. 30\n",
       "9. 34\n",
       "10. 38\n",
       "11. 42\n",
       "12. 46\n",
       "13. 50\n",
       "14. 54\n",
       "15. 58\n",
       "16. 62\n",
       "17. 66\n",
       "18. 70\n",
       "19. 74\n",
       "20. 78\n",
       "21. 82\n",
       "22. 86\n",
       "23. 90\n",
       "24. 94\n",
       "25. 98\n",
       "26. 102\n",
       "27. 106\n",
       "28. 110\n",
       "29. 114\n",
       "30. 118\n",
       "31. 122\n",
       "32. 126\n",
       "33. 130\n",
       "34. 134\n",
       "35. 138\n",
       "36. 142\n",
       "37. 146\n",
       "38. 150\n",
       "39. 154\n",
       "40. 158\n",
       "41. 162\n",
       "42. 166\n",
       "43. 170\n",
       "44. 174\n",
       "45. 178\n",
       "46. 182\n",
       "47. 186\n",
       "48. 190\n",
       "49. 194\n",
       "50. 198\n",
       "\n",
       "\n"
      ],
      "text/plain": [
       " [1]   2   6  10  14  18  22  26  30  34  38  42  46  50  54  58  62  66  70  74\n",
       "[20]  78  82  86  90  94  98 102 106 110 114 118 122 126 130 134 138 142 146 150\n",
       "[39] 154 158 162 166 170 174 178 182 186 190 194 198"
      ]
     },
     "metadata": {},
     "output_type": "display_data"
    }
   ],
   "source": [
    "# Example of the use of seq() \n",
    "seq(2,200, by = 4)"
   ]
  },
  {
   "cell_type": "code",
   "execution_count": 4,
   "metadata": {},
   "outputs": [
    {
     "data": {
      "text/html": [
       "<style>\n",
       ".list-inline {list-style: none; margin:0; padding: 0}\n",
       ".list-inline>li {display: inline-block}\n",
       ".list-inline>li:not(:last-child)::after {content: \"\\00b7\"; padding: 0 .5ex}\n",
       "</style>\n",
       "<ol class=list-inline><li>3.5</li><li>3.9</li><li>8</li><li>8.7</li><li>9</li><li>9.7</li><li>10</li></ol>\n"
      ],
      "text/latex": [
       "\\begin{enumerate*}\n",
       "\\item 3.5\n",
       "\\item 3.9\n",
       "\\item 8\n",
       "\\item 8.7\n",
       "\\item 9\n",
       "\\item 9.7\n",
       "\\item 10\n",
       "\\end{enumerate*}\n"
      ],
      "text/markdown": [
       "1. 3.5\n",
       "2. 3.9\n",
       "3. 8\n",
       "4. 8.7\n",
       "5. 9\n",
       "6. 9.7\n",
       "7. 10\n",
       "\n",
       "\n"
      ],
      "text/plain": [
       "[1]  3.5  3.9  8.0  8.7  9.0  9.7 10.0"
      ]
     },
     "metadata": {},
     "output_type": "display_data"
    }
   ],
   "source": [
    "# Example of the use of sort()\n",
    "# First let's create a vector \n",
    "student_Grades <- c(9 , 8 , 10 , 3.5 , 8.7 , 3.9 , 9.7)\n",
    "sort(student_Grades , decreasing = FALSE) # this will sort from the lowest to highest "
   ]
  },
  {
   "cell_type": "code",
   "execution_count": 8,
   "metadata": {},
   "outputs": [
    {
     "data": {
      "text/html": [
       "<style>\n",
       ".list-inline {list-style: none; margin:0; padding: 0}\n",
       ".list-inline>li {display: inline-block}\n",
       ".list-inline>li:not(:last-child)::after {content: \"\\00b7\"; padding: 0 .5ex}\n",
       "</style>\n",
       "<ol class=list-inline><li>1</li><li>2</li><li>3</li><li>4</li><li>5</li><li>6</li><li>7</li><li>8</li><li>9</li><li>10</li></ol>\n"
      ],
      "text/latex": [
       "\\begin{enumerate*}\n",
       "\\item 1\n",
       "\\item 2\n",
       "\\item 3\n",
       "\\item 4\n",
       "\\item 5\n",
       "\\item 6\n",
       "\\item 7\n",
       "\\item 8\n",
       "\\item 9\n",
       "\\item 10\n",
       "\\end{enumerate*}\n"
      ],
      "text/markdown": [
       "1. 1\n",
       "2. 2\n",
       "3. 3\n",
       "4. 4\n",
       "5. 5\n",
       "6. 6\n",
       "7. 7\n",
       "8. 8\n",
       "9. 9\n",
       "10. 10\n",
       "\n",
       "\n"
      ],
      "text/plain": [
       " [1]  1  2  3  4  5  6  7  8  9 10"
      ]
     },
     "metadata": {},
     "output_type": "display_data"
    },
    {
     "data": {
      "text/html": [
       "<style>\n",
       ".list-inline {list-style: none; margin:0; padding: 0}\n",
       ".list-inline>li {display: inline-block}\n",
       ".list-inline>li:not(:last-child)::after {content: \"\\00b7\"; padding: 0 .5ex}\n",
       "</style>\n",
       "<ol class=list-inline><li>10</li><li>9</li><li>8</li><li>7</li><li>6</li><li>5</li><li>4</li><li>3</li><li>2</li><li>1</li></ol>\n"
      ],
      "text/latex": [
       "\\begin{enumerate*}\n",
       "\\item 10\n",
       "\\item 9\n",
       "\\item 8\n",
       "\\item 7\n",
       "\\item 6\n",
       "\\item 5\n",
       "\\item 4\n",
       "\\item 3\n",
       "\\item 2\n",
       "\\item 1\n",
       "\\end{enumerate*}\n"
      ],
      "text/markdown": [
       "1. 10\n",
       "2. 9\n",
       "3. 8\n",
       "4. 7\n",
       "5. 6\n",
       "6. 5\n",
       "7. 4\n",
       "8. 3\n",
       "9. 2\n",
       "10. 1\n",
       "\n",
       "\n"
      ],
      "text/plain": [
       " [1] 10  9  8  7  6  5  4  3  2  1"
      ]
     },
     "metadata": {},
     "output_type": "display_data"
    }
   ],
   "source": [
    "# Example of the use of revert() \n",
    "vector <- 1:10\n",
    "vector\n",
    "rev(vector) # the elements will be reversed"
   ]
  },
  {
   "cell_type": "code",
   "execution_count": 10,
   "metadata": {},
   "outputs": [
    {
     "name": "stdout",
     "output_type": "stream",
     "text": [
      " int [1:10] 1 2 3 4 5 6 7 8 9 10\n",
      "'data.frame':\t50 obs. of  4 variables:\n",
      " $ Murder  : num  13.2 10 8.1 8.8 9 7.9 3.3 5.9 15.4 17.4 ...\n",
      " $ Assault : int  236 263 294 190 276 204 110 238 335 211 ...\n",
      " $ UrbanPop: int  58 48 80 50 91 78 77 72 80 60 ...\n",
      " $ Rape    : num  21.2 44.5 31 19.5 40.6 38.7 11.1 15.8 31.9 25.8 ...\n"
     ]
    }
   ],
   "source": [
    "# Example of the use of str() \n",
    "str(vector)\n",
    "str(USArrests)"
   ]
  },
  {
   "cell_type": "code",
   "execution_count": 13,
   "metadata": {},
   "outputs": [
    {
     "data": {
      "text/html": [
       "<style>\n",
       ".list-inline {list-style: none; margin:0; padding: 0}\n",
       ".list-inline>li {display: inline-block}\n",
       ".list-inline>li:not(:last-child)::after {content: \"\\00b7\"; padding: 0 .5ex}\n",
       "</style>\n",
       "<ol class=list-inline><li>14619</li><li>13987</li><li>23890</li><li>1459546</li><li>146780</li><li>35289</li></ol>\n"
      ],
      "text/latex": [
       "\\begin{enumerate*}\n",
       "\\item 14619\n",
       "\\item 13987\n",
       "\\item 23890\n",
       "\\item 1459546\n",
       "\\item 146780\n",
       "\\item 35289\n",
       "\\end{enumerate*}\n"
      ],
      "text/markdown": [
       "1. 14619\n",
       "2. 13987\n",
       "3. 23890\n",
       "4. 1459546\n",
       "5. 146780\n",
       "6. 35289\n",
       "\n",
       "\n"
      ],
      "text/plain": [
       "[1]   14619   13987   23890 1459546  146780   35289"
      ]
     },
     "metadata": {},
     "output_type": "display_data"
    },
    {
     "data": {
      "text/html": [
       "<style>\n",
       ".list-inline {list-style: none; margin:0; padding: 0}\n",
       ".list-inline>li {display: inline-block}\n",
       ".list-inline>li:not(:last-child)::after {content: \"\\00b7\"; padding: 0 .5ex}\n",
       "</style>\n",
       "<ol class=list-inline><li>9.5</li><li>8.7</li><li>3.9</li><li>7.6</li><li>5.4</li><li>10</li></ol>\n"
      ],
      "text/latex": [
       "\\begin{enumerate*}\n",
       "\\item 9.5\n",
       "\\item 8.7\n",
       "\\item 3.9\n",
       "\\item 7.6\n",
       "\\item 5.4\n",
       "\\item 10\n",
       "\\end{enumerate*}\n"
      ],
      "text/markdown": [
       "1. 9.5\n",
       "2. 8.7\n",
       "3. 3.9\n",
       "4. 7.6\n",
       "5. 5.4\n",
       "6. 10\n",
       "\n",
       "\n"
      ],
      "text/plain": [
       "[1]  9.5  8.7  3.9  7.6  5.4 10.0"
      ]
     },
     "metadata": {},
     "output_type": "display_data"
    },
    {
     "data": {
      "text/html": [
       "<style>\n",
       ".list-inline {list-style: none; margin:0; padding: 0}\n",
       ".list-inline>li {display: inline-block}\n",
       ".list-inline>li:not(:last-child)::after {content: \"\\00b7\"; padding: 0 .5ex}\n",
       "</style>\n",
       "<ol class=list-inline><li>14619</li><li>13987</li><li>23890</li><li>1459546</li><li>146780</li><li>35289</li><li>9.5</li><li>8.7</li><li>3.9</li><li>7.6</li><li>5.4</li><li>10</li></ol>\n"
      ],
      "text/latex": [
       "\\begin{enumerate*}\n",
       "\\item 14619\n",
       "\\item 13987\n",
       "\\item 23890\n",
       "\\item 1459546\n",
       "\\item 146780\n",
       "\\item 35289\n",
       "\\item 9.5\n",
       "\\item 8.7\n",
       "\\item 3.9\n",
       "\\item 7.6\n",
       "\\item 5.4\n",
       "\\item 10\n",
       "\\end{enumerate*}\n"
      ],
      "text/markdown": [
       "1. 14619\n",
       "2. 13987\n",
       "3. 23890\n",
       "4. 1459546\n",
       "5. 146780\n",
       "6. 35289\n",
       "7. 9.5\n",
       "8. 8.7\n",
       "9. 3.9\n",
       "10. 7.6\n",
       "11. 5.4\n",
       "12. 10\n",
       "\n",
       "\n"
      ],
      "text/plain": [
       " [1]   14619.0   13987.0   23890.0 1459546.0  146780.0   35289.0       9.5\n",
       " [8]       8.7       3.9       7.6       5.4      10.0"
      ]
     },
     "metadata": {},
     "output_type": "display_data"
    }
   ],
   "source": [
    "# Example of the use of merge() \n",
    "Student_id <- c(14619 , 13987 , 23890 , 1459546 , 146780 , 35289)\n",
    "Student_grades <- c(9.5 ,8.7 , 3.9 , 7.6 , 5.4 , 10)\n",
    "Student_id\n",
    "Student_grades\n",
    "append(Student_id , Student_grades)"
   ]
  },
  {
   "cell_type": "code",
   "execution_count": 16,
   "metadata": {},
   "outputs": [
    {
     "data": {
      "text/html": [
       "TRUE"
      ],
      "text/latex": [
       "TRUE"
      ],
      "text/markdown": [
       "TRUE"
      ],
      "text/plain": [
       "[1] TRUE"
      ]
     },
     "metadata": {},
     "output_type": "display_data"
    },
    {
     "data": {
      "text/html": [
       "TRUE"
      ],
      "text/latex": [
       "TRUE"
      ],
      "text/markdown": [
       "TRUE"
      ],
      "text/plain": [
       "[1] TRUE"
      ]
     },
     "metadata": {},
     "output_type": "display_data"
    }
   ],
   "source": [
    "# is. to check the data type of an R object \n",
    "is.vector(Student_grades) # to check if an R object is a vector \n",
    "is.data.frame(USArrests) # to check if an R object is a dataframe"
   ]
  },
  {
   "cell_type": "code",
   "execution_count": 19,
   "metadata": {},
   "outputs": [
    {
     "data": {
      "text/html": [
       "<ol>\n",
       "\t<li>9.5</li>\n",
       "\t<li>8.7</li>\n",
       "\t<li>3.9</li>\n",
       "\t<li>7.6</li>\n",
       "\t<li>5.4</li>\n",
       "\t<li>10</li>\n",
       "</ol>\n"
      ],
      "text/latex": [
       "\\begin{enumerate}\n",
       "\\item 9.5\n",
       "\\item 8.7\n",
       "\\item 3.9\n",
       "\\item 7.6\n",
       "\\item 5.4\n",
       "\\item 10\n",
       "\\end{enumerate}\n"
      ],
      "text/markdown": [
       "1. 9.5\n",
       "2. 8.7\n",
       "3. 3.9\n",
       "4. 7.6\n",
       "5. 5.4\n",
       "6. 10\n",
       "\n",
       "\n"
      ],
      "text/plain": [
       "[[1]]\n",
       "[1] 9.5\n",
       "\n",
       "[[2]]\n",
       "[1] 8.7\n",
       "\n",
       "[[3]]\n",
       "[1] 3.9\n",
       "\n",
       "[[4]]\n",
       "[1] 7.6\n",
       "\n",
       "[[5]]\n",
       "[1] 5.4\n",
       "\n",
       "[[6]]\n",
       "[1] 10\n"
      ]
     },
     "metadata": {},
     "output_type": "display_data"
    },
    {
     "data": {
      "text/html": [
       "<table>\n",
       "<caption>A matrix: 6 × 1 of type dbl</caption>\n",
       "<tbody>\n",
       "\t<tr><td> 9.5</td></tr>\n",
       "\t<tr><td> 8.7</td></tr>\n",
       "\t<tr><td> 3.9</td></tr>\n",
       "\t<tr><td> 7.6</td></tr>\n",
       "\t<tr><td> 5.4</td></tr>\n",
       "\t<tr><td>10.0</td></tr>\n",
       "</tbody>\n",
       "</table>\n"
      ],
      "text/latex": [
       "A matrix: 6 × 1 of type dbl\n",
       "\\begin{tabular}{l}\n",
       "\t  9.5\\\\\n",
       "\t  8.7\\\\\n",
       "\t  3.9\\\\\n",
       "\t  7.6\\\\\n",
       "\t  5.4\\\\\n",
       "\t 10.0\\\\\n",
       "\\end{tabular}\n"
      ],
      "text/markdown": [
       "\n",
       "A matrix: 6 × 1 of type dbl\n",
       "\n",
       "|  9.5 |\n",
       "|  8.7 |\n",
       "|  3.9 |\n",
       "|  7.6 |\n",
       "|  5.4 |\n",
       "| 10.0 |\n",
       "\n"
      ],
      "text/plain": [
       "     [,1]\n",
       "[1,]  9.5\n",
       "[2,]  8.7\n",
       "[3,]  3.9\n",
       "[4,]  7.6\n",
       "[5,]  5.4\n",
       "[6,] 10.0"
      ]
     },
     "metadata": {},
     "output_type": "display_data"
    }
   ],
   "source": [
    "# as. to convert a datya type of an R object\n",
    "as.list(Student_grades) # to convert student grades vector to a list\n",
    "as.matrix(Student_grades) # to convert student grades to a matrix"
   ]
  },
  {
   "cell_type": "code",
   "execution_count": 37,
   "metadata": {},
   "outputs": [
    {
     "name": "stdout",
     "output_type": "stream",
     "text": [
      " [1] 867 723 851 678 232 319 749 365 804 342 890 535 454 869 410\n",
      "[1] 78\n",
      "[[1]]\n",
      "[1] 3251\n",
      "\n",
      "[[2]]\n",
      "[1] 1297\n",
      "\n",
      "[[3]]\n",
      "[1] 9952\n",
      "\n",
      "[[4]]\n",
      "[1] 2138\n",
      "\n",
      "[1] 3304 1331 9931 2122\n",
      "[1]  6420  2478 19752  4186\n",
      " [1] 101 102 103 104 105 106 107 108 109 110\n"
     ]
    }
   ],
   "source": [
    "###################### The Function Apply and sample ##############################\n",
    "# sample function uses a range and then select a subset within that range \n",
    "# Example 1 : \n",
    "print(sample(x = 2:900 , 15))\n",
    "# Apply function is used to apply a certain function over an object \n",
    "salary <- c(3210 , 1239 , 9876 , 2093)\n",
    "addrand <-function(x) {\n",
    "    ran <- sample(1:100 ,1)\n",
    "    return(x+ran)\n",
    "}\n",
    "print(addrand(10)) # every time run , we got a different result\n",
    "\n",
    "#lapply function is used to apply a certain function over an object , the result is a list\n",
    "\n",
    "result <- lapply(salary , addrand)\n",
    "print(result)\n",
    "\n",
    "#sapply applies a function over a list or vector and returns a vector \n",
    "result <- sapply(salary ,addrand)\n",
    "print(result)\n",
    "result <- sapply(salary , function(num){num * 2})\n",
    "print(result)\n",
    "\n",
    "vector <- 1:10 \n",
    "\n",
    "add_choice <- function(num,choice){\n",
    "    return(num+choice)\n",
    "}\n",
    "print(sapply(vector,add_choice , choice = 100))"
   ]
  },
  {
   "cell_type": "code",
   "execution_count": 46,
   "metadata": {},
   "outputs": [
    {
     "data": {
      "text/html": [
       "16418"
      ],
      "text/latex": [
       "16418"
      ],
      "text/markdown": [
       "16418"
      ],
      "text/plain": [
       "[1] 16418"
      ]
     },
     "metadata": {},
     "output_type": "display_data"
    },
    {
     "data": {
      "text/html": [
       "34"
      ],
      "text/latex": [
       "34"
      ],
      "text/markdown": [
       "34"
      ],
      "text/plain": [
       "[1] 34"
      ]
     },
     "metadata": {},
     "output_type": "display_data"
    },
    {
     "data": {
      "text/html": [
       "7"
      ],
      "text/latex": [
       "7"
      ],
      "text/markdown": [
       "7"
      ],
      "text/plain": [
       "[1] 7"
      ]
     },
     "metadata": {},
     "output_type": "display_data"
    },
    {
     "data": {
      "text/html": [
       "4104.5"
      ],
      "text/latex": [
       "4104.5"
      ],
      "text/markdown": [
       "4104.5"
      ],
      "text/plain": [
       "[1] 4104.5"
      ]
     },
     "metadata": {},
     "output_type": "display_data"
    },
    {
     "data": {
      "text/html": [
       "3.88"
      ],
      "text/latex": [
       "3.88"
      ],
      "text/markdown": [
       "3.88"
      ],
      "text/plain": [
       "[1] 3.88"
      ]
     },
     "metadata": {},
     "output_type": "display_data"
    },
    {
     "data": {
      "text/html": [
       "25"
      ],
      "text/latex": [
       "25"
      ],
      "text/markdown": [
       "25"
      ],
      "text/plain": [
       "[1] 25"
      ]
     },
     "metadata": {},
     "output_type": "display_data"
    },
    {
     "data": {
      "text/html": [
       "25"
      ],
      "text/latex": [
       "25"
      ],
      "text/markdown": [
       "25"
      ],
      "text/plain": [
       "[1] 25"
      ]
     },
     "metadata": {},
     "output_type": "display_data"
    },
    {
     "data": {
      "text/html": [
       "<style>\n",
       ".list-inline {list-style: none; margin:0; padding: 0}\n",
       ".list-inline>li {display: inline-block}\n",
       ".list-inline>li:not(:last-child)::after {content: \"\\00b7\"; padding: 0 .5ex}\n",
       "</style>\n",
       "<ol class=list-inline><li>3210</li><li>1239</li><li>9876</li><li>2093</li></ol>\n"
      ],
      "text/latex": [
       "\\begin{enumerate*}\n",
       "\\item 3210\n",
       "\\item 1239\n",
       "\\item 9876\n",
       "\\item 2093\n",
       "\\end{enumerate*}\n"
      ],
      "text/markdown": [
       "1. 3210\n",
       "2. 1239\n",
       "3. 9876\n",
       "4. 2093\n",
       "\n",
       "\n"
      ],
      "text/plain": [
       "[1] 3210 1239 9876 2093"
      ]
     },
     "metadata": {},
     "output_type": "display_data"
    }
   ],
   "source": [
    "######################### Mathematical Functions ##########################\n",
    "\n",
    "# sum() # returs the of all the values present in the input \n",
    "\n",
    "sum(salary)\n",
    "sum(7 , 8 , 9 ,10)\n",
    "\n",
    "# mean() # returns the average value \n",
    "\n",
    "mean(7 , 8 , 9 ,10)\n",
    "mean(salary)\n",
    "\n",
    "# round() # rounds values \n",
    "\n",
    "round(3.87920 , digits = 2)\n",
    "\n",
    "# abs() # computes the absolute value \n",
    "abs(25)\n",
    "abs(-25)\n",
    "abs(salary) # applying it to a vector\n",
    "\n",
    "\n"
   ]
  },
  {
   "cell_type": "code",
   "execution_count": 51,
   "metadata": {},
   "outputs": [
    {
     "data": {
      "text/html": [
       "TRUE"
      ],
      "text/latex": [
       "TRUE"
      ],
      "text/markdown": [
       "TRUE"
      ],
      "text/plain": [
       "[1] TRUE"
      ]
     },
     "metadata": {},
     "output_type": "display_data"
    },
    {
     "data": {
      "text/html": [
       "FALSE"
      ],
      "text/latex": [
       "FALSE"
      ],
      "text/markdown": [
       "FALSE"
      ],
      "text/plain": [
       "[1] FALSE"
      ]
     },
     "metadata": {},
     "output_type": "display_data"
    },
    {
     "data": {
      "text/html": [
       "4"
      ],
      "text/latex": [
       "4"
      ],
      "text/markdown": [
       "4"
      ],
      "text/plain": [
       "[1] 4"
      ]
     },
     "metadata": {},
     "output_type": "display_data"
    }
   ],
   "source": [
    "################################## Regular Expressions ################################################\n",
    "\n",
    "# A regular expression is a sequence of characters that define a search pattern.\n",
    "\n",
    "text <- \"Hi there , what is your plan for tomorrow ?\"\n",
    "\n",
    "# Example of grepl returns a logical value when a pattern is found in a corresponding character string\n",
    "grepl ('tomorrow' , text)\n",
    "grepl ('today' , text)\n",
    "\n",
    "# Example of grep instead returns the position \n",
    "\n",
    "v <- c(\"b\", \"d\" , \"v\" , \"f\")\n",
    "grep('f' , v)"
   ]
  },
  {
   "cell_type": "code",
   "execution_count": 54,
   "metadata": {},
   "outputs": [
    {
     "data": {
      "text/html": [
       "<time datetime=\"2002-06-01\">2002-06-01</time>"
      ],
      "text/latex": [
       "2002-06-01"
      ],
      "text/markdown": [
       "2002-06-01"
      ],
      "text/plain": [
       "[1] \"2002-06-01\""
      ]
     },
     "metadata": {},
     "output_type": "display_data"
    }
   ],
   "source": [
    "############################ Dates and Timestamps ########################################\n",
    "\n",
    "################## Dates \n",
    "\n",
    "###### Sys.Date() # returns the current date \n",
    "###### as.date() # converts the data type to date # Example\n",
    "\n",
    "my.date <- as.Date(\"Nov-03-90\" , format = \"%b-%d-%y\")\n",
    "\n",
    "# %d Day of the month \n",
    "# %m month of the year \n",
    "# %B Month(full name)\n",
    "# %y Year(2 digit)\n",
    "# %Y Year(4 digit)\n",
    "\n",
    "as.Date(\"June , 01 , 2002\" , format= \"%B , %d , %Y\")"
   ]
  },
  {
   "cell_type": "code",
   "execution_count": null,
   "metadata": {},
   "outputs": [],
   "source": []
  }
 ],
 "metadata": {
  "kernelspec": {
   "display_name": "R",
   "language": "R",
   "name": "ir"
  },
  "language_info": {
   "codemirror_mode": "r",
   "file_extension": ".r",
   "mimetype": "text/x-r-source",
   "name": "R",
   "pygments_lexer": "r",
   "version": "3.6.2"
  }
 },
 "nbformat": 4,
 "nbformat_minor": 2
}
